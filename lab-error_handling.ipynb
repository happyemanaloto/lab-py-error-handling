{
 "cells": [
  {
   "cell_type": "markdown",
   "metadata": {},
   "source": [
    "# LAB | Error Handling in Python\n",
    "\n",
    "## Overview\n",
    "This exercise notebook will help you practice error handling in Python using exceptions. You will write programs that handle various types of exceptions to ensure your code runs smoothly and handles errors gracefully."
   ]
  },
  {
   "cell_type": "markdown",
   "metadata": {},
   "source": [
    "### Exercise 1: Handle ZeroDivisionError\n",
    "Write a Python program to handle a `ZeroDivisionError` exception when dividing a number by zero.\n"
   ]
  },
  {
   "cell_type": "code",
   "execution_count": 1,
   "metadata": {},
   "outputs": [
    {
     "name": "stdout",
     "output_type": "stream",
     "text": [
      "ZeroDivisionError: The divisor is equal to 0.division by zero\n"
     ]
    }
   ],
   "source": [
    "def divide(dividend,divisor):\n",
    "    try:\n",
    "        return (dividend / divisor)\n",
    "    except ZeroDivisionError as ZeroError:   \n",
    "        print(f\"ZeroDivisionError: The divisor is equal to {divisor}.{ZeroError}\")\n",
    "\n",
    "\n",
    "\n",
    "divide(10,0)      "
   ]
  },
  {
   "cell_type": "markdown",
   "metadata": {},
   "source": [
    "\n",
    "### Exercise 2: Raise ValueError for Invalid Input\n",
    "Write a Python program that prompts the user to input an integer and raises a `ValueError` exception if the input is not a valid integer.\n",
    "\n"
   ]
  },
  {
   "cell_type": "code",
   "execution_count": 13,
   "metadata": {},
   "outputs": [],
   "source": [
    "def get_integer_input():\n",
    "    x = input(\"Please enter an integer: \")\n",
    "    #convert the input to an integer\n",
    "    try:\n",
    "        integer_x = int(x)\n",
    "        print(f\"You entered an integer: {result}\")\n",
    "        return integer_x\n",
    "    except:\n",
    "        # If input is not a valid integer, raise a ValueError\n",
    "        raise ValueError(\"Invalid input! You must enter a valid integer.\")\n",
    "\n",
    "\n"
   ]
  },
  {
   "cell_type": "markdown",
   "metadata": {},
   "source": [
    "\n",
    "\n",
    "### Exercise 3: Handle FileNotFoundError\n",
    "Write a Python program that opens a file and handles a `FileNotFoundError` exception if the file does not exist.\n",
    "\n"
   ]
  },
  {
   "cell_type": "code",
   "execution_count": 18,
   "metadata": {},
   "outputs": [
    {
     "name": "stdout",
     "output_type": "stream",
     "text": [
      "File not found: [Errno 2] No such file or directory: 'Adverstising.csv'\n"
     ]
    }
   ],
   "source": [
    "import os\n",
    "\n",
    "def open_file(filename):\n",
    "    try:\n",
    "        open(filename, 'r')\n",
    "        return\n",
    "    except FileNotFoundError as FileError:\n",
    "        print(f\"File not found: {FileError}\")\n",
    "\n"
   ]
  },
  {
   "cell_type": "markdown",
   "metadata": {},
   "source": [
    "\n",
    "\n",
    "### Exercise 4: Raise TypeError for Non-Numerical Input\n",
    "Write a Python program that prompts the user to input two numbers and raises a `TypeError` exception if the inputs are not numerical.\n",
    "\n"
   ]
  },
  {
   "cell_type": "code",
   "execution_count": 31,
   "metadata": {},
   "outputs": [],
   "source": [
    "def get_2nums():\n",
    "    num1 = input(\"Please enter an 1st number: \")\n",
    "    num2 = input(\"Please enter an 2nd number: \")\n",
    "\n",
    "    \n",
    "    if type(num1) == int and type(num2) == int:\n",
    "        (print(f\"Correct inputs- 1st number is a number of type: {type(num1)}. 2nd number is a number of type: {type(num2)}\"))\n",
    "        return(num1, num2)\n",
    "    elif type(num1) == str or type(num2) == str:\n",
    "        try:\n",
    "            integer_num1 = int(num1)\n",
    "            integer_num2 = int(num2)\n",
    "            return(integer_num1, integer_num2)\n",
    "        except ValueError as ErrorNum:\n",
    "            raise TypeError(f\"Invalid input! You must enter 2 valid numbers.{ErrorNum}\")\n",
    "            \n"
   ]
  },
  {
   "cell_type": "markdown",
   "metadata": {},
   "source": [
    "\n",
    "\n",
    "### Exercise 5: Handle PermissionError\n",
    "Write a Python program that opens a file and handles a `PermissionError` exception if there is a permission issue.\n",
    "\n",
    "\n"
   ]
  },
  {
   "cell_type": "code",
   "execution_count": 44,
   "metadata": {},
   "outputs": [],
   "source": [
    "import os\n",
    "def access_file(fname):\n",
    "    try:\n",
    "        open(fname, 'r')\n",
    "        return\n",
    "    except PermissionError as AccessError:\n",
    "        print(f\"Permission error: {AccessError}\")\n",
    "    except Exception as OtherError:\n",
    "        print(f\"Error: {OtherError}\")\n"
   ]
  },
  {
   "cell_type": "markdown",
   "metadata": {},
   "source": [
    "\n",
    "\n",
    "### Exercise 6: Handle IndexError in List Operations\n",
    "Write a Python program that executes an operation on a list and handles an `IndexError` exception if the index is out of range.\n",
    "\n",
    "\n"
   ]
  },
  {
   "cell_type": "code",
   "execution_count": null,
   "metadata": {},
   "outputs": [
    {
     "name": "stdout",
     "output_type": "stream",
     "text": [
      "4we\n"
     ]
    }
   ],
   "source": [
    "\n",
    "def check_list_index(list_a, index_a):\n",
    "    try: \n",
    "        print(list_a[index_a])\n",
    "        return\n",
    "    except IndexError as CheckError:\n",
    "        print(f\"Enter index between 0 and {(len(list_a)-1)}\")\n",
    "\n",
    "\n"
   ]
  },
  {
   "cell_type": "markdown",
   "metadata": {},
   "source": [
    "\n",
    "\n",
    "### Exercise 7: Handle KeyboardInterrupt Exception\n",
    "Write a Python program that prompts the user to input a number and handles a `KeyboardInterrupt` exception if the user cancels the input.\n",
    "\n"
   ]
  },
  {
   "cell_type": "code",
   "execution_count": null,
   "metadata": {},
   "outputs": [],
   "source": [
    "def handle_interrupt():\n",
    "    input_num = input(\"Please enter number.\")\n",
    "    try:\n",
    "        int(input_num)\n",
    "        while (input_num != \" \"):\n",
    "            print(\"input is {input_num}... Please cancel\")\n",
    "        return\n",
    "    except KeyboardInterrupt as Cancel:\n",
    "        print(f\"KeyboardInterrupt: {Cancel}\")\n",
    "    \n"
   ]
  },
  {
   "cell_type": "markdown",
   "metadata": {},
   "source": [
    "\n",
    "\n",
    "### Exercise 8: Handle ArithmeticError\n",
    "Write a Python program that executes division and handles an `ArithmeticError` exception if there is an arithmetic error.\n",
    "\n"
   ]
  },
  {
   "cell_type": "code",
   "execution_count": null,
   "metadata": {},
   "outputs": [],
   "source": [
    "def verify_division(dividend,divisor):\n",
    "    try:\n",
    "        return (dividend / divisor)\n",
    "    except ZeroDivisionError:   \n",
    "        \n",
    "            print(f\"ZeroDivisionError: The divisor is equal to {divisor}.\")"
   ]
  },
  {
   "cell_type": "markdown",
   "metadata": {},
   "source": [
    "\n",
    "\n",
    "### Exercise 9: Handle UnicodeDecodeError\n",
    "Write a Python program that opens a file and handles a `UnicodeDecodeError` exception if there is an encoding issue.\n",
    "\n"
   ]
  },
  {
   "cell_type": "code",
   "execution_count": null,
   "metadata": {},
   "outputs": [],
   "source": [
    "fname = \"Advertising.csv\"\n",
    "try:\n",
    "    open(fname, 'r', encoding = \"windows-1252\")\n",
    "except UnicodeDecodeError as UDError:\n",
    "    print(f\"UnicodeDecodeError: {UDError}\")\n"
   ]
  },
  {
   "cell_type": "markdown",
   "metadata": {},
   "source": [
    "\n",
    "\n",
    "### Exercise 10: Handle AttributeError\n",
    "Write a Python program that executes an operation on an object and handles an `AttributeError` exception if the attribute does not exist.\n",
    "\n"
   ]
  },
  {
   "cell_type": "code",
   "execution_count": 46,
   "metadata": {},
   "outputs": [
    {
     "name": "stdout",
     "output_type": "stream",
     "text": [
      "AttributeError: 'str' object has no attribute 'read'\n"
     ]
    }
   ],
   "source": [
    "file = \"Advertising.csv\"\n",
    "try:\n",
    "    open(fname, 'r', encoding = \"windows-1252\")\n",
    "    fname.read()\n",
    "except AttributeError as AttError:\n",
    "    print(f\"AttributeError: {AttError}\")"
   ]
  },
  {
   "cell_type": "markdown",
   "metadata": {},
   "source": [
    "\n",
    "\n",
    "## Bonus Exercises\n",
    "\n",
    "### Bonus Exercise 1: Handle Multiple Exceptions\n",
    "Write a Python program that demonstrates handling multiple exceptions in one block.\n",
    "\n",
    "\n"
   ]
  },
  {
   "cell_type": "code",
   "execution_count": 47,
   "metadata": {},
   "outputs": [],
   "source": [
    "def handle_mult_exceptions():\n",
    "    input_num = input(\"Please enter number.\")\n",
    "    try:\n",
    "        result = int(input_num) / 10\n",
    "        while (result != \" \"):\n",
    "            print(\"input is {input_num}... Please cancel\")\n",
    "    except ValueError as ValError:\n",
    "        # If input is not a valid integer, raise a ValueError\n",
    "        raise ValueError(\"Invalid input! You must enter a valid integer.\")\n",
    "    except KeyboardInterrupt as Cancel:\n",
    "        raise KeyboardInterrupt(\"Execution interrupted: {Cancel}\")"
   ]
  },
  {
   "cell_type": "markdown",
   "metadata": {},
   "source": [
    "\n",
    "\n",
    "### Bonus Exercise 2: Create Custom Exception\n",
    "Create a custom exception class and raise it in your code when certain conditions are met.\n",
    "\n",
    "\n"
   ]
  },
  {
   "cell_type": "code",
   "execution_count": 53,
   "metadata": {},
   "outputs": [
    {
     "name": "stdout",
     "output_type": "stream",
     "text": [
      "Your age cannot be a negative number! Incorrect entry: -15\n"
     ]
    }
   ],
   "source": [
    "def age_reveal(x):\n",
    "    try:\n",
    "        if int(x) > 0:\n",
    "            print(f\"Your age is {int(x)}\")\n",
    "            return\n",
    "        else:\n",
    "            print(f\"Your age cannot be a negative number! Incorrect entry: {x}\")\n",
    "    except ValueError as EntryError:\n",
    "        raise ValueError(\"Enter real age {EntryError}\")\n",
    "    \n"
   ]
  },
  {
   "cell_type": "markdown",
   "metadata": {},
   "source": [
    "\n",
    "\n",
    "### Bonus Exercise 3: Validate User Input with Exception Handling\n",
    "Write a program that repeatedly prompts the user for valid input until they provide it, using exception handling to manage invalid inputs.\n",
    "\n"
   ]
  },
  {
   "cell_type": "code",
   "execution_count": 10,
   "metadata": {},
   "outputs": [],
   "source": [
    "def insist_age_reveal():\n",
    "    x = input(\"Please enter your age.\")\n",
    "    try:\n",
    "        if int(x) > 0:\n",
    "            print(f\"Your age is {int(x)}\")\n",
    "            return\n",
    "        else:\n",
    "            print(f\"Your age cannot be a negative number! Please correct age input: {x}\") \n",
    "            insist_age_reveal()\n",
    "    except ValueError as EntryError:\n",
    "        raise ValueError(\"Enter real age {EntryError}\")\n",
    "        insist_age_reveal()  \n",
    "    return\n"
   ]
  },
  {
   "cell_type": "markdown",
   "metadata": {},
   "source": [
    "\n",
    "\n",
    "### Bonus Exercise 4: Log Errors to File\n",
    "Modify your error handling to log errors to a text file instead of printing them to the console.\n",
    "\n"
   ]
  },
  {
   "cell_type": "code",
   "execution_count": 15,
   "metadata": {},
   "outputs": [
    {
     "name": "stdout",
     "output_type": "stream",
     "text": [
      "Your age is 21\n",
      " Volume in drive C is Windows-SSD\n",
      " Volume Serial Number is 5059-4E7B\n",
      "\n",
      " Directory of c:\\Users\\happy\\Documents\\ironhack\\day4\\lab-py-error-handling\n",
      "\n",
      "20/03/2025  17:12    <DIR>          .\n",
      "20/03/2025  16:51    <DIR>          ..\n",
      "20/03/2025  17:12                57 error_log.txt\n",
      "20/03/2025  16:50            17.315 lab-error_handling.ipynb\n",
      "15/03/2025  11:04               827 README.md\n",
      "               3 File(s)         18.199 bytes\n",
      "               2 Dir(s)  893.649.969.152 bytes free\n"
     ]
    }
   ],
   "source": [
    "def age_error_log(x):\n",
    "    #x = input(\"Please enter your age.\")\n",
    "    try:\n",
    "        if int(x) > 0:\n",
    "            print(f\"Your age is {int(x)}\")\n",
    "            return\n",
    "        else:\n",
    "            print(f\"Your age cannot be a negative number! Please correct age input: {x}\") \n",
    "    except ValueError as EntryError:\n",
    "        with open(\"error_log.txt\", \"a\") as error_file:\n",
    "            error_file.write(f\"Error log: {str(EntryError)}\\n\")\n",
    "            raise ValueError(\"Enter real age\")\n",
    "    return\n",
    "age_error_log(\"21\")\n",
    "%ls"
   ]
  },
  {
   "cell_type": "markdown",
   "metadata": {},
   "source": [
    "\n",
    "\n",
    "### Bonus Exercise 5: Retry Logic on Exception\n",
    "Implement retry logic for operations that could fail, allowing users to try again after encountering an error.\n",
    "\n"
   ]
  },
  {
   "cell_type": "code",
   "execution_count": 20,
   "metadata": {},
   "outputs": [],
   "source": [
    "def age_retry():\n",
    "    x = input(\"Please enter your age.\")\n",
    "    try:\n",
    "        if int(x) > 0:\n",
    "            print(f\"Your age is {int(x)}\")\n",
    "            return\n",
    "        else:\n",
    "            print(f\"Your age cannot be a negative number! Please correct age input: {x}\") \n",
    "    except ValueError as EntryError:\n",
    "        with open(\"error_log.txt\", \"a\") as error_file:\n",
    "            error_file.write(f\"Error log: {str(EntryError)}\\n\")\n",
    "            raise ValueError(\"Enter real age\")\n",
    "            age_retry()  \n",
    "    return"
   ]
  }
 ],
 "metadata": {
  "kernelspec": {
   "display_name": "base",
   "language": "python",
   "name": "python3"
  },
  "language_info": {
   "codemirror_mode": {
    "name": "ipython",
    "version": 3
   },
   "file_extension": ".py",
   "mimetype": "text/x-python",
   "name": "python",
   "nbconvert_exporter": "python",
   "pygments_lexer": "ipython3",
   "version": "3.12.7"
  }
 },
 "nbformat": 4,
 "nbformat_minor": 2
}
